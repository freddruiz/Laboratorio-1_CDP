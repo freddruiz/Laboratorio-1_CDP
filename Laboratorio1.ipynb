{
 "cells": [
  {
   "cell_type": "markdown",
   "metadata": {},
   "source": [
    "<div style=\"text-align:  \"> Ciencias de Datos en Python </div> <div style=\"text-align: left\"> Autor: Freddy Ruíz </div>"
   ]
  },
  {
   "cell_type": "markdown",
   "metadata": {},
   "source": [
    "#### Resumen: Control de Versiones con GIT\n",
    "***"
   ]
  },
  {
   "cell_type": "markdown",
   "metadata": {},
   "source": [
    "Antes de platicar sobre la herramienta de GIT como tal, es necesario tener un concepto claro de lo qué es una herramienta de control de versiones, su utilidad y forma de uso. Para que posteriormente, cuando se trabaje con un proyecto de software estos conceptos sean aplicados de manera correcta, agilizando y controlando nuestra linea de de desarrollo."
   ]
  },
  {
   "cell_type": "markdown",
   "metadata": {},
   "source": [
    "##### Herramientas de control:"
   ]
  },
  {
   "cell_type": "markdown",
   "metadata": {},
   "source": [
    "Son utilizadas con el fin de registrar de manera histórica los cambios que han sido realizados dentro de un proyecto. Capturando a conveniencia, los cambios percibidos en los folderes y archivos que conforman el directorio del proyecto en curso. Incluyendo dentro de cada captura información (metadata) relacionada a autor del cambio, descripción, momento en el que fue realizado, referencias, entre otras."
   ]
  },
  {
   "cell_type": "markdown",
   "metadata": {},
   "source": [
    "Los beneficios de utilizar este tipo de herramientas se listan a continuación:\n",
    "* Revisión de estados anteriores del código\n",
    "- Revisión de elementos clave como razón del cambio, autor y momento\n",
    "- Permite el trabajo en paralelo de ramas de desarrollo\n",
    "- Facilita la colaboración de otras personas en el proyecto\n",
    "- Facilita la recuperación de archivos y backup del proyecto"
   ]
  },
  {
   "cell_type": "markdown",
   "metadata": {},
   "source": [
    "Ahora que tenemos una noción de lo que es una herramienta de control de versiones, hablaremos de cómo funciona GIT, su composición y cómo utilizarlo para el versionamiento de nuestros programas"
   ]
  },
  {
   "cell_type": "markdown",
   "metadata": {},
   "source": [
    "##### Estructura de Datos en GIT:"
   ]
  },
  {
   "cell_type": "markdown",
   "metadata": {},
   "source": [
    "Para empezar, GIT es un sistema de control distribuido de versión donde cada persona que clona el repositorio en realidad tiene una copia completa de toda la información histórica del proyecto. Con el fin de poder restaurar el trabajo en curso en caso el servidor donde está toda la información se corrompa y se pierda todo."
   ]
  },
  {
   "cell_type": "markdown",
   "metadata": {},
   "source": [
    "<img src=\"https://git-scm.com/book/en/v2/images/distributed.png\" width=\"300\" height=\"300\" style=\"vertical-align:middle\"/>"
   ]
  },
  {
   "cell_type": "markdown",
   "metadata": {},
   "source": [
    "__Figura 1:__ Ejemplo de sistema de control de versiones distribuido"
   ]
  },
  {
   "cell_type": "markdown",
   "metadata": {},
   "source": [
    "La manera en la que GIT maneja el control de versionamiento es a tráves de una gráfica directa acíclica. Donde cada uno de las capturas del proyecto que se han hecho durante el tiempo, hacen referencia a la captura anterior (ver figura). Lo cual permite mantener el registro de donde provienen cada uno de los cambios. Pero, ¿Qué son estas capturas? GIT las define como objetos que contienen metada (autor y mensaje), y las referencia al padre y al tree.\n",
    "\n",
    "Comoe es de nuestro conocimiento, un proyecto se basa en un folder principal que contiene de manera organizada diferentes folders y archivos dentro de él. Para hacer referencia a estos dentro del modelo que maneja, utiliza la siguiente convención:\n",
    "\n",
    "* Blob: Nombre definido para los archivos. Cuyo contenido es equivalente a un cumulo de bytes. \n",
    "       type blob = array<byte> \n",
    "- Tree: Hace referencia a los folders. Los cuales pueden contener otros trees o blobs dentro del mismo.\n",
    "       type tree = map <string, tree|blob>\n",
    "- Commit: Terminología utilizada para las capturas. Estas contienen metada y referencia al padre y al arbol correspondiente\n",
    "        type commit = struct {\n",
    "            parents: array<commit>\n",
    "            autor: string\n",
    "            message: string\n",
    "            snapshot: tree\n",
    "            }\n",
    "    \n",
    "    \n",
    " Los anteriormente mencionados, también son reconocidos dentro de git como objetos y cada uno de ellos tienen un identificador único mejor conocido como hash. Debido a que un hash no es tan fácil de recordar o trabajar con él, GIT implementa las referencias como lo son master (branch principal), head (commit siendo visualizado), entre otras.\n",
    "    \n",
    "    \n",
    "- Object:\n",
    "        type object = blob|tree|commit\n",
    "    \n",
    "    \n",
    " Y los objetos de la siguiente manera:\n",
    "\n",
    "* Objects = map<string, object>\n",
    "- def store(o)\n",
    "        id = sha1(o)\n",
    "        objects(id) = o\n",
    "- def load(id)\n",
    "    return object(id)\n",
    " \n",
    "    "
   ]
  },
  {
   "cell_type": "markdown",
   "metadata": {},
   "source": []
  },
  {
   "cell_type": "markdown",
   "metadata": {},
   "source": []
  },
  {
   "cell_type": "markdown",
   "metadata": {},
   "source": [
    "#### Links de utilidad:\n",
    "\n",
    "En caso desees expandir tu conocimiento sobre el tema, a continuación dejo una serie de links"
   ]
  },
  {
   "cell_type": "markdown",
   "metadata": {},
   "source": [
    "* [The Jupyter Notebook Formatting Guide](https://medium.com/analytics-vidhya/the-jupyter-notebook-formatting-guide-873ab39f765e)\n",
    "- [Jupyter Noteebok Markdown CheatSheet](https://sqlbak.com/blog/wp-content/uploads/2020/12/Jupyter-Notebook-Markdown-Cheatsheet2.pdf)\n",
    "- [Using GitHub](https://guides.github.com/activities/hello-world/)"
   ]
  },
  {
   "cell_type": "markdown",
   "metadata": {},
   "source": [
    "\n",
    "<img src=\"https://image.flaticon.com/icons/png/512/25/25231.png\" width=\"42\" height=\"42\" style=\"vertical-align:middle\"/>\n"
   ]
  },
  {
   "cell_type": "code",
   "execution_count": null,
   "metadata": {},
   "outputs": [],
   "source": [
    "Agregando "
   ]
  }
 ],
 "metadata": {
  "kernelspec": {
   "display_name": "Python 3",
   "language": "python",
   "name": "python3"
  },
  "language_info": {
   "codemirror_mode": {
    "name": "ipython",
    "version": 3
   },
   "file_extension": ".py",
   "mimetype": "text/x-python",
   "name": "python",
   "nbconvert_exporter": "python",
   "pygments_lexer": "ipython3",
   "version": "3.7.6"
  }
 },
 "nbformat": 4,
 "nbformat_minor": 4
}
