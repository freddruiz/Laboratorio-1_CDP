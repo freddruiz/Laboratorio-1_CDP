{
 "cells": [
  {
   "cell_type": "markdown",
   "metadata": {},
   "source": [
    "<div style=\"text-align:  \"> Ciencias de Datos en Python </div> <div style=\"text-align: left\"> Autor: Freddy Ruíz </div>"
   ]
  },
  {
   "cell_type": "markdown",
   "metadata": {},
   "source": [
    "#### Resumen: Control de Versiones con GIT\n",
    "***"
   ]
  },
  {
   "cell_type": "markdown",
   "metadata": {},
   "source": [
    "Antes de hablar sobre la herramienta de GIT como tal, es necesario tener un concepto claro de lo qué es una herramienta de control de versiones. Para que posteriormente, cuando se trabaje en un proyecto de software este concepto sea aplicado de manera correcta, con el fin de agilizar y controlar nuestra linea de de desarrollo.\n"
   ]
  },
  {
   "cell_type": "markdown",
   "metadata": {},
   "source": [
    "##### Herramientas de control de versiones:"
   ]
  },
  {
   "cell_type": "markdown",
   "metadata": {},
   "source": [
    "Son utilizadas con el fin de registrar de manera histórica, los cambios que han sido realizados dentro de un proyecto. Capturando a conveniencia, los cambios percibidos en los folderes y archivos que conforman el directorio del proyecto en curso. Incluyendo dentro de cada captura, información (metadata) relacionada al autor del cambio, descripción, momento en el que fue realizado, referencias, entre otras. Existen tres tipos de sistemas de control de versiones:"
   ]
  },
  {
   "cell_type": "markdown",
   "metadata": {},
   "source": [
    "\n",
    "|Tipo | Descripción | Desventajas |\n",
    "| --- | --- | --- |\n",
    "| Versionamiento Local | Una copia del proyecto entero se hace periódicamente y es agregado a una carpeta con el nombre, versión, fecha y hora | Pueden ocurrir errores al momento de llevar este historial de versiones, como errores en versión, fecha u hora  |\n",
    "| Versionamiento centralizado |Todo el proyecto se encuentra dentro de un servidor y los colaboradores en simultaneo acceden a los documentos | En caso el servidor esté caído nadie puede accesar a la información y si el servidor se corrompe el proyecto entero se pierde |\n",
    "| Versionamiento distribuido* |Cada persona que clona el repositorio en realidad tiene una copia completa de toda la información histórica del proyecto. Con el objetivo de poder restaurar el proyecto en curso con cualquiera de las copias, en caso el servidor presente un error y la información se vea comprometida. | Ninguna |\n",
    "\n",
    "__*Nota__: Implementado en GIT\n",
    "\n",
    "<img src=\"https://git-scm.com/book/en/v2/images/distributed.png\" width=\"300\" height=\"300\" style=\"vertical-align:middle\"/>\n",
    "\n",
    "__Figura 1:__ Ejemplo de sistema de control de versiones distribuido\n",
    "\n"
   ]
  },
  {
   "cell_type": "markdown",
   "metadata": {},
   "source": [
    "Los beneficios de utilizar este tipo de herramientas se listan a continuación:\n",
    "* Permite revisar estados anteriores del código\n",
    "- Permite determinar aspectos clave de un cambio como lo es razón, autor y momento\n",
    "- Permite el trabajo en paralelo de ramas de desarrollo\n",
    "- Facilita la colaboración de otras personas en el proyecto\n",
    "- Facilita la recuperación de archivos y backup del proyecto"
   ]
  },
  {
   "cell_type": "markdown",
   "metadata": {},
   "source": [
    "Ahora que tenemos una noción de lo que es una herramienta de control de versiones, hablaremos de cómo funciona GIT, su composición y cómo utilizarlo para el versionamiento de nuestros programas."
   ]
  },
  {
   "cell_type": "markdown",
   "metadata": {},
   "source": [
    "##### Estructura de Datos en GIT:"
   ]
  },
  {
   "cell_type": "markdown",
   "metadata": {},
   "source": [
    "La manera en la que GIT maneja el control de versionamiento, es a tráves de una gráfica directa acíclica. Donde cada uno de las capturas del proyecto que se han hecho durante el tiempo, hacen referencia a la captura anterior. Lo cual, permite mantener el registro de donde provienen cada uno de los cambios. Pero, ¿Qué son estas capturas? GIT las define como objetos que contienen metada (autor y mensaje), y las referencia al padre y al tree.\n",
    "\n",
    "Como es de nuestro conocimiento, un proyecto consta de un folder principal que contiene de manera organizada diferentes folders y archivos dentro. Lo cual es modelado dentro de GIT por medio de la siguiente convención:\n",
    "\n",
    "* Blob: Nombre definido para los archivos. Cuyo contenido es equivalente a un cumulo de bytes. \n",
    "       type blob = array<byte> \n",
    "- Tree: Hace referencia a los folders. Los cuales pueden contener otros trees o blobs dentro del mismo.\n",
    "       type tree = map <string, tree|blob>\n",
    "- Commit: Terminología utilizada para las capturas. Estas contienen metada y referencia al padre y al arbol correspondiente\n",
    "        type commit = struct {\n",
    "            parents: array<commit>\n",
    "            autor: string\n",
    "            message: string\n",
    "            snapshot: tree\n",
    "            }\n",
    "    \n",
    "    \n",
    "Los elementos anteriormente mencionados, también son reconocidos dentro de git como objetos. Y cada uno de ellos, tienen un identificador único mejor conocido como hash. Debido a que un hash no es tan fácil de recordar o trabajar con él, GIT implementa las referencias como lo son __master__ (branch principal), __head__ (commit siendo visualizado), entre otras.\n",
    "    \n",
    "    \n",
    "- Object:\n",
    "        type object = blob|tree|commit\n",
    "    \n",
    "    "
   ]
  },
  {
   "cell_type": "markdown",
   "metadata": {},
   "source": [
    "Con el fin de ejemplificar la terminologia mencionada arriba, imaginemos el caso donde tenemos un proyecto que consta de una carpeta principal llamada ejemplo (tree) y dentro de ella tres archivos (blobs). Ahora, si creamos un repositorio git dentro de la carpeta del proyecto, ¿Cómo se vería la estructura de este comit? Muy fácil, veamos la [figura 1](#Estructura_commit) la cual muestra que en efecto el commit almacena la referencia al arbol madre (carpeta principal: 92ec2), el autor, mensaje y padre. Pero, qué sucede en este caso que es nuestro primer commit? como podemos ver no hay referencia hacia el padre, pero si agregamos un segundo o tercer commit, ya tenemos padre al cual referenciar ([ver figura 2](#Serie_commit)) para commits posteriores."
   ]
  },
  {
   "cell_type": "markdown",
   "metadata": {},
   "source": [
    " <img  id=\"Estructura_commit\" src=\"https://git-scm.com/book/en/v2/images/commit-and-tree.png\" style=\"width:70%\" style=\"vertical-align:left\"/>\n",
    "\n",
    "\n",
    "\n"
   ]
  },
  {
   "cell_type": "markdown",
   "metadata": {},
   "source": [
    "__Figura 1:__ Estructura y desglose de un commit\n",
    " \n"
   ]
  },
  {
   "cell_type": "markdown",
   "metadata": {},
   "source": [
    " <img  id=\"Serie_commit\" src=\"https://git-scm.com/book/en/v2/images/commits-and-parents.png\" style=\"width:70%\" style=\"vertical align:Left\"/>"
   ]
  },
  {
   "cell_type": "markdown",
   "metadata": {},
   "source": [
    "__Figura 2:__ Serie de commits con su respectivas referencias\n",
    " "
   ]
  },
  {
   "cell_type": "markdown",
   "metadata": {},
   "source": [
    "##### Ejemplo de creación repositorio local y carga a git hub:"
   ]
  },
  {
   "cell_type": "markdown",
   "metadata": {},
   "source": [
    "Por último y no menos importantes, ilustraremos por medio del siguiente ejemplo los prinicipios básicos de git: init, log, status, commit, remote y push. Asegurate de haber [instalado git](https://git-scm.com/downloads) en tu computadora y tener abierta la consola de git bash direccionada a la carpeta de tu proyecto. Al igual, es necesario que cuentes con una cuenta creada en [git hub](https://github.com/) con un [repositorio](https://docs.github.com/en/github/getting-started-with-github/create-a-repo) creado para este ejemplo.\n"
   ]
  },
  {
   "cell_type": "markdown",
   "metadata": {},
   "source": [
    "##### Pasos:"
   ]
  },
  {
   "cell_type": "markdown",
   "metadata": {},
   "source": [
    "1. Inicializamos git dentro de la carpeta madre del proyecto:  `git init`\n",
    "   \n",
    "         \n",
    "          \n",
    "2. Seleccionamos los archivos y folderes que deseamos agregar dentro del commit: `git add nombre_archivo`\n",
    "\n"
   ]
  },
  {
   "cell_type": "markdown",
   "metadata": {},
   "source": [
    "\n"
   ]
  },
  {
   "cell_type": "markdown",
   "metadata": {},
   "source": [
    " <img  id=\"Estructura_commit\" src=\"Imagenes/Pasos 1-2.png\" style=\"width:70%\" style=\"vertical-align:left\"/>"
   ]
  },
  {
   "cell_type": "markdown",
   "metadata": {},
   "source": [
    "__Figura 4:__ Pasos 1-2"
   ]
  },
  {
   "cell_type": "markdown",
   "metadata": {},
   "source": [
    "3. Revisamos que en efecto se hayan agregados y vayan a ser tomados en cuenta dentro del commit: `git status`\n",
    "4. Creamos el commit con su respectivo mensaje: `git commit -m mensaje_commit`\n"
   ]
  },
  {
   "cell_type": "markdown",
   "metadata": {},
   "source": [
    " <img  id=\"Estructura_commit\" src=\"Imagenes/Pasos 3-4.png\" style=\"width:70%\" style=\"vertical-align:left\"/>\n"
   ]
  },
  {
   "cell_type": "markdown",
   "metadata": {},
   "source": [
    "__Figura 5:__ Pasos 3-4"
   ]
  },
  {
   "cell_type": "markdown",
   "metadata": {},
   "source": [
    "5. Revisamos el historial de commits:     `git log`\n",
    "6. Una vez creado el commit, conectamos con git hub:      `git remote add origin URL_Repositorio`\n",
    "7. Realizamos un push para cargar nuestro repositorio local en git hub:     `git push origin master`\n"
   ]
  },
  {
   "cell_type": "markdown",
   "metadata": {},
   "source": [
    " <img  id=\"Estructura_commit\" src=\"Imagenes/Pasos 5-7.png\" style=\"width:70%\" style=\"vertical-align:left\"/>"
   ]
  },
  {
   "cell_type": "markdown",
   "metadata": {},
   "source": [
    "__Figura 6:__ Pasos 5-7"
   ]
  },
  {
   "cell_type": "markdown",
   "metadata": {},
   "source": [
    "8.  Revisamos en git hub que en efecto fue cargada la información"
   ]
  },
  {
   "cell_type": "markdown",
   "metadata": {},
   "source": [
    " <img  id=\"Estructura_commit\" src=\"Imagenes/Pasos 8.png\" style=\"width:70%\" style=\"vertical-align:left\"/>"
   ]
  },
  {
   "cell_type": "markdown",
   "metadata": {},
   "source": [
    "__Figura 7:__ Paso 8"
   ]
  },
  {
   "cell_type": "markdown",
   "metadata": {},
   "source": [
    "#### Links de utilidad:\n",
    "\n",
    "En caso desees expandir tu conocimiento sobre el tema, a continuación dejo una serie de links"
   ]
  },
  {
   "cell_type": "markdown",
   "metadata": {},
   "source": [
    "* [The Jupyter Notebook Formatting Guide](https://medium.com/analytics-vidhya/the-jupyter-notebook-formatting-guide-873ab39f765e)\n",
    "- [Jupyter Noteebok Markdown CheatSheet](https://sqlbak.com/blog/wp-content/uploads/2020/12/Jupyter-Notebook-Markdown-Cheatsheet2.pdf)\n",
    "- [Using GitHub](https://guides.github.com/activities/hello-world/)"
   ]
  },
  {
   "cell_type": "markdown",
   "metadata": {},
   "source": [
    "\n",
    "<img src=\"https://image.flaticon.com/icons/png/512/25/25231.png\" width=\"42\" height=\"42\" style=\"vertical-align:middle\"/>\n"
   ]
  }
 ],
 "metadata": {
  "kernelspec": {
   "display_name": "Python 3",
   "language": "python",
   "name": "python3"
  },
  "language_info": {
   "codemirror_mode": {
    "name": "ipython",
    "version": 3
   },
   "file_extension": ".py",
   "mimetype": "text/x-python",
   "name": "python",
   "nbconvert_exporter": "python",
   "pygments_lexer": "ipython3",
   "version": "3.7.6"
  }
 },
 "nbformat": 4,
 "nbformat_minor": 4
}
